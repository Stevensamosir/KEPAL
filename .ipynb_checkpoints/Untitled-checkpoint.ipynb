{
 "cells": [
  {
   "cell_type": "code",
   "execution_count": 1,
   "id": "c94fef26-6cd5-4304-a121-823a95e9bf99",
   "metadata": {},
   "outputs": [
    {
     "name": "stdout",
     "output_type": "stream",
     "text": [
      "Dataset dibuat di folder 'HashPerformanceDataset'.\n"
     ]
    }
   ],
   "source": [
    "import os\n",
    "\n",
    "# Folder untuk menyimpan dataset\n",
    "dataset_dir = \"HashPerformanceDataset\"\n",
    "os.makedirs(dataset_dir, exist_ok=True)\n",
    "\n",
    "# Ukuran file dalam byte\n",
    "file_sizes = [2**10, 2**15, 2**20]  # 1 KB, 32 KB, 1 MB\n",
    "file_types = [\"txt\", \"bin\"]  # Teks dan biner\n",
    "\n",
    "for size in file_sizes:\n",
    "    for ftype in file_types:\n",
    "        file_name = f\"{dataset_dir}/file_{size}bytes.{ftype}\"\n",
    "        with open(file_name, \"wb\" if ftype == \"bin\" else \"w\") as f:\n",
    "            if ftype == \"txt\":\n",
    "                f.write(\"a\" * size)  # Teks: tulis 'a' sebanyak size byte\n",
    "            else:\n",
    "                f.write(os.urandom(size))  # Biner: tulis byte acak\n",
    "\n",
    "print(f\"Dataset dibuat di folder '{dataset_dir}'.\")\n"
   ]
  },
  {
   "cell_type": "code",
   "execution_count": 2,
   "id": "83532a4a-248a-48e5-bd2b-3568119ebd64",
   "metadata": {},
   "outputs": [
    {
     "name": "stdout",
     "output_type": "stream",
     "text": [
      "Ukuran Data (byte)\tAlgoritma\tWaktu (detik)\n",
      "1024\tSHA-256\t0.000000\n",
      "1024\tSHA-3\t0.000000\n",
      "1024\tBlake2\t0.000000\n",
      "32768\tSHA-256\t0.000000\n",
      "32768\tSHA-3\t0.000992\n",
      "32768\tBlake2\t0.000000\n",
      "1048576\tSHA-256\t0.001003\n",
      "1048576\tSHA-3\t0.001997\n",
      "1048576\tBlake2\t0.002224\n"
     ]
    }
   ],
   "source": [
    "import hashlib\n",
    "import time\n",
    "from hashlib import blake2b\n",
    "\n",
    "# Data sampel untuk pengujian\n",
    "data_sizes = [2**10, 2**15, 2**20]  # 1 KB, 32 KB, 1 MB\n",
    "results = []\n",
    "\n",
    "def hash_benchmark(data, hash_func, func_name):\n",
    "    start_time = time.time()\n",
    "    hash_func(data).digest()\n",
    "    duration = time.time() - start_time\n",
    "    return duration\n",
    "\n",
    "for size in data_sizes:\n",
    "    data = b'a' * size  # Data dummy sebesar `size` byte\n",
    "    for algo, name in [\n",
    "        (hashlib.sha256, \"SHA-256\"),\n",
    "        (hashlib.sha3_256, \"SHA-3\"),\n",
    "        (blake2b, \"Blake2\")\n",
    "    ]:\n",
    "        duration = hash_benchmark(data, algo, name)\n",
    "        results.append((size, name, duration))\n",
    "\n",
    "# Menampilkan hasil\n",
    "print(\"Ukuran Data (byte)\\tAlgoritma\\tWaktu (detik)\")\n",
    "for size, name, duration in results:\n",
    "    print(f\"{size}\\t{name}\\t{duration:.6f}\")\n",
    "\n"
   ]
  },
  {
   "cell_type": "code",
   "execution_count": null,
   "id": "5a39c86c-72bd-4e2a-96b9-e333fc16de86",
   "metadata": {},
   "outputs": [],
   "source": []
  }
 ],
 "metadata": {
  "kernelspec": {
   "display_name": "Python 3 (ipykernel)",
   "language": "python",
   "name": "python3"
  },
  "language_info": {
   "codemirror_mode": {
    "name": "ipython",
    "version": 3
   },
   "file_extension": ".py",
   "mimetype": "text/x-python",
   "name": "python",
   "nbconvert_exporter": "python",
   "pygments_lexer": "ipython3",
   "version": "3.11.5"
  }
 },
 "nbformat": 4,
 "nbformat_minor": 5
}
